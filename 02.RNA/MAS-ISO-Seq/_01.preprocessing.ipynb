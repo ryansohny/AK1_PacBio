{
 "cells": [
  {
   "cell_type": "code",
   "execution_count": null,
   "metadata": {},
   "outputs": [],
   "source": [
    "import scanpy as sc\n",
    "import pandas as pd\n",
    "import numpy as np\n",
    "import matplotlib.pyplot as plt\n",
    "\n",
    "%autoindent\n",
    "%matplotlib\n",
    "\n",
    "adata = sc.read_10x_mtx('AK1/')\n",
    "\n",
    "knee = np.sort((np.array(adata.X.sum(axis=1))).flatten())[::-1]\n",
    "cell_set = np.arange(len(knee))\n",
    "cutoff = 200\n",
    "num_cells = cell_set[knee > cutoff][::-1][0]\n",
    "\n",
    "fig, ax = plt.subplots(figsize=(10, 7))\n",
    "\n",
    "ax.loglog(knee, cell_set, lw=5, color=\"g\")\n",
    "ax.axvline(x=cutoff, lw=3, color=\"k\")\n",
    "ax.axhline(y=num_cells, lw=3, color=\"k\")\n",
    "ax.set_xlabel(\"UMI counts\")\n",
    "ax.set_ylabel(\"Set of Barcodes\")\n",
    "plt.grid(True, which = \"both\")\n",
    "\n",
    "print(f\"{num_cells:,.0f} cells passed the {cutoff} UMI threshold\")\n",
    "#9,364 cells passed the 200 UMI threshold (2022-10-22)"
   ]
  }
 ],
 "metadata": {
  "kernelspec": {
   "display_name": "Python 3.9.13 ('base')",
   "language": "python",
   "name": "python3"
  },
  "language_info": {
   "name": "python",
   "version": "3.9.13"
  },
  "orig_nbformat": 4,
  "vscode": {
   "interpreter": {
    "hash": "ad2bdc8ecc057115af97d19610ffacc2b4e99fae6737bb82f5d7fb13d2f2c186"
   }
  }
 },
 "nbformat": 4,
 "nbformat_minor": 2
}
