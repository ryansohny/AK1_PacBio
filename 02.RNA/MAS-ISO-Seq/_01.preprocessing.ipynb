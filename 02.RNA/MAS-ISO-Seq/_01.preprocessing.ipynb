{
 "cells": [
  {
   "cell_type": "markdown",
   "metadata": {},
   "source": [
    "## In PMI cm03\n",
    "### Environment\n",
    "```bash\n",
    "source activate scanpy_1.9.1\n",
    "ipython --profile=ak1\n",
    "```"
   ]
  },
  {
   "cell_type": "code",
   "execution_count": null,
   "metadata": {},
   "outputs": [],
   "source": [
    "from anndata import AnnData\n",
    "import anndata\n",
    "from scipy import sparse, io\n",
    "import scipy\n",
    "import pandas as pd\n",
    "import scipy.io\n",
    "import os\n",
    "import scanpy as sc\n",
    "import matplotlib.pyplot as plt\n",
    "import matplotlib\n",
    "import matplotlib.colors\n",
    "matplotlib.use('TkAgg')\n",
    "import numpy as np\n",
    "import seaborn as sns\n",
    "import math\n",
    "import scanpy.external as sce\n",
    "import scrublet as scr\n",
    "import statsmodels.api as sm\n",
    "from statsmodels.formula.api import ols\n",
    "from statsmodels.stats.multicomp import pairwise_tukeyhsd\n",
    "from scipy.stats import chi2_contingency\n",
    "from scipy.stats import fisher_exact\n",
    "from statsmodels.stats.multitest import multipletests\n",
    "sns.set(font=\"Arial\", font_scale=1, style='ticks')\n",
    "sc.settings.verbosity = 3\n",
    "plt.rcParams['figure.figsize'] = (6,6)\n",
    "%autoindent\n",
    "%matplotlib\n",
    "\n",
    "cmap = matplotlib.colors.LinearSegmentedColormap.from_list(\"\", [\"#104e8b\", \"#ffdab9\", \"#8b0a50\"])\n",
    "\n",
    "ak1 = sc.read_10x_mtx('/data/Projects/phenomata/01.Projects/13.AK1_PacBio/02.RNA/AK1/genes_seurat')\n",
    "ipsc = sc.read_10x_mtx('/data/Projects/phenomata/01.Projects/13.AK1_PacBio/02.RNA/iPSC/genes_seurat')\n",
    "npc = sc.read_10x_mtx('/data/Projects/phenomata/01.Projects/13.AK1_PacBio/02.RNA/NPC/genes_seurat')\n",
    "\n",
    "ak1_iso = sc.read_10x_mtx('/data/Projects/phenomata/01.Projects/13.AK1_PacBio/02.RNA/AK1/isoforms_seurat')\n",
    "ipsc_iso = sc.read_10x_mtx('/data/Projects/phenomata/01.Projects/13.AK1_PacBio/02.RNA/iPSC/isoforms_seurat')\n",
    "npc_iso = sc.read_10x_mtx('/data/Projects/phenomata/01.Projects/13.AK1_PacBio/02.RNA/NPC/isoforms_seurat')\n",
    "\n",
    "ak1.write(filename=\"AK1_genes.h5ad\")\n",
    "ipsc.write(filename=\"iPSC_genes.h5ad\")\n",
    "npc.write(filename=\"NPC_genes.h5ad\")\n",
    "ak1_iso.write(filename=\"AK1_isoforms.h5ad\")\n",
    "ipsc_iso.write(filename=\"iPSC_isoforms.h5ad\")\n",
    "npc_iso.write(filename=\"NPC_isoforms.h5ad\")\n",
    "\n",
    "\n",
    "knee = np.sort((np.array(ak1.X.sum(axis=1))).flatten())[::-1] # UMI count for each cell (axis=1)\n",
    "cell_set = np.arange(len(knee))\n",
    "cutoff = 200\n",
    "num_cells = cell_set[knee > cutoff][::-1][0]\n",
    "\n",
    "fig, ax = plt.subplots(figsize=(10, 7))\n",
    "\n",
    "ax.loglog(knee, cell_set, lw=5, color=\"g\")\n",
    "ax.axvline(x=num_cells, lw=3, color=\"k\")\n",
    "ax.axhline(y=cutoff, lw=3, color=\"k\")\n",
    "ax.set_xlabel(\"Set of Barcodes\")\n",
    "ax.set_ylabel(\"UMI counts\")\n",
    "ax.grid(True, which = \"both\")\n",
    "\n",
    "print(f\"{num_cells:,.0f} cells passed the {cutoff} UMI threshold\")\n",
    "#9,364 cells passed the 200 UMI threshold (2022-10-22)"
   ]
  },
  {
   "cell_type": "markdown",
   "metadata": {},
   "source": [
    "##### First, execute *_Run_DropletUtils.R*"
   ]
  },
  {
   "cell_type": "markdown",
   "metadata": {},
   "source": [
    "## Preprocessing on filtered CBC-UMI matrix"
   ]
  },
  {
   "cell_type": "markdown",
   "metadata": {},
   "source": [
    "#### Open 10x h5 files"
   ]
  },
  {
   "cell_type": "code",
   "execution_count": null,
   "metadata": {},
   "outputs": [],
   "source": [
    "ak1 = sc.read_10x_h5(\"/data/Projects/phenomata/01.Projects/13.AK1_PacBio/02.RNA/ALL_H5files/AK1_genes.h5\")\n",
    "ak1.var_names_make_unique()\n",
    "\n",
    "ipsc = sc.read_10x_h5(\"/data/Projects/phenomata/01.Projects/13.AK1_PacBio/02.RNA/ALL_H5files/iPSC_genes.h5\")\n",
    "ipsc.var_names_make_unique()\n",
    "\n",
    "npc = sc.read_10x_h5(\"/data/Projects/phenomata/01.Projects/13.AK1_PacBio/02.RNA/ALL_H5files/NPC_genes.h5\")\n",
    "npc.var_names_make_unique()"
   ]
  },
  {
   "cell_type": "markdown",
   "metadata": {},
   "source": [
    "#### Doublet detection (using scrublet version 0.2.3) and removal for each sample"
   ]
  },
  {
   "cell_type": "code",
   "execution_count": null,
   "metadata": {},
   "outputs": [],
   "source": [
    "for sample in [ak1, ipsc, npc]:\n",
    "    sce.pp.scrublet(sample, adata_sim=None, sim_doublet_ratio=2.0, expected_doublet_rate=0.08, stdev_doublet_rate=0.02, synthetic_doublet_umi_subsampling=1.0, knn_dist_metric='euclidean', n_prin_comps=30, verbose=True)\n",
    "\n",
    "# Filtering\n",
    "ak1 = ak1[ak1.obs['predicted_doublet'] == False, :]\n",
    "ipsc = ipsc[ipsc.obs['predicted_doublet'] == False, :]\n",
    "npc = npc[npc.obs['predicted_doublet'] == False, :]\n",
    "\n",
    "for sample in [ak1, ipsc, npc]:\n",
    "    sample.obs['n_counts'] = sample.X.sum(axis=1)\n",
    "    sample.obs['n_genes'] = (sample.X > 0).sum(axis=1)\n",
    "\n",
    "q20 = ak1.obs['n_counts'].quantile(q=0.20, interpolation='linear') # 20% quantile value\n",
    "ak1 = ak1[ak1.obs['n_counts'] > q20, :]\n",
    "\n",
    "q20 = ipsc.obs['n_counts'].quantile(q=0.20, interpolation='linear') # 20% quantile value\n",
    "ipsc = ipsc[ipsc.obs['n_counts'] > q20, :]\n",
    "\n",
    "q20 = npc.obs['n_counts'].quantile(q=0.20, interpolation='linear') # 20% quantile value\n",
    "npc = npc[npc.obs['n_counts'] > q20, :]\n"
   ]
  },
  {
   "cell_type": "markdown",
   "metadata": {},
   "source": []
  },
  {
   "cell_type": "markdown",
   "metadata": {},
   "source": [
    "#### Batch integration"
   ]
  },
  {
   "cell_type": "code",
   "execution_count": null,
   "metadata": {},
   "outputs": [],
   "source": [
    "integrated = AnnData.concatenate(ak1, ipsc, npc, join='outer', batch_categories = ['AK1', 'iPSC', 'NPC'], index_unique = '-')\n",
    "\n",
    "#Checked Distribution of UMI counts and Gene counts\n",
    "#integrated.obs['n_counts'] = integrated.X.sum(1)\n",
    "#integrated.obs['n_genes'] = (integrated.X > 0).sum(1)\n",
    "#sns.set(font=\"Arial\", font_scale=1.5, style='ticks')\n",
    "#sc.pl.violin(integrated, ['n_counts', 'n_genes'], groupby='batch', size=2, log=True, cut=0, inner='quartile', ylabel=['UMI counts', 'Gene counts'], rotation=0.1)\n",
    "#sns.despine()\n",
    "#sns.set(font=\"Arial\", font_scale=1, style='ticks') # Back to original settings"
   ]
  },
  {
   "cell_type": "code",
   "execution_count": null,
   "metadata": {},
   "outputs": [],
   "source": [
    "sc.pp.filter_genes(integrated, min_cells=5) # 'n_cells' added in integrated.var \n",
    "integrated.layers[\"counts\"] = integrated.X.copy()\n",
    "integrated.raw = integrated\n",
    "\n",
    "import rpy2.rinterface_lib.callbacks\n",
    "import logging\n",
    "from rpy2.robjects import pandas2ri\n",
    "import anndata2ri\n",
    "pandas2ri.activate()\n",
    "anndata2ri.activate()\n",
    "%load_ext rpy2.ipython\n",
    "%%R\n",
    "library(scran)\n",
    "library(dplyr)\n",
    "\n",
    "\n",
    "\n",
    "%config InlineBackend.figure_format = 'retina'\n",
    "\n",
    "adata_pp = integrated.copy()\n",
    "sc.pp.normalize_per_cell(adata_pp, counts_per_cell_after=1e6)\n",
    "sc.pp.log1p(adata_pp) # works on anndata.X\n",
    "sc.tl.pca(adata_pp, n_comps=15) ## 여기서 이 n_component의 숫자를 늘리면 size_factors를 estimation하는 데 도움이 될까?\n",
    "sc.pp.neighbors(adata_pp)\n",
    "sc.tl.leiden(adata_pp, key_added='groups', resolution=0.5)\n",
    "input_groups = adata_pp.obs['groups']\n",
    "data_mat = integrated.X.T\n",
    "%%R -i data_mat -i input_groups -o size_factors\n",
    "size_factors = BiocGenerics::sizeFactors(computeSumFactors(SingleCellExperiment::SingleCellExperiment(list(counts=data_mat)), clusters=input_groups, min.mean=0.1))\n",
    "\n",
    "\n",
    "\n",
    "del adata_pp\n",
    "del data_mat\n",
    "\n",
    "integrated.obs['size_factors'] = size_factors\n",
    "\n",
    "# Checked Size factor distribution before filtering cell by 'UMI counts'\n",
    "#d = sns.displot(data=integrated.obs, x='size_factors', hue='batch')\n",
    "#sns.move_legend(d, \"upper right\", bbox_to_anchor=(0.7, 0.7))\n",
    "\n",
    "integrated.X /= integrated.obs['size_factors'].values[:, None]\n",
    "integrated.layers['scran'] = integrated.X # For cellphoneDB or CelChat maybe?\n",
    "sc.pp.log1p(integrated) # works on anndata.X\n",
    "integrated.X = scipy.sparse.csr_matrix(integrated.X)\n",
    "integrated.layers['scran_log1p'] = integrated.X\n",
    "integrated.raw = integrated ## ==> log transforamtion 된 것이 raw로 들어가게 됨."
   ]
  },
  {
   "cell_type": "code",
   "execution_count": null,
   "metadata": {},
   "outputs": [],
   "source": [
    "sc.pp.highly_variable_genes(integrated)\n",
    "integrated.var['highly_variable'].value_counts() # 2,313 ==> 2021-08-10\n",
    "\n",
    "sc.pp.scale(integrated, max_value=10) # tabula muris senis default (2021-08-10) # mean and std on adata.var\n",
    "#sc.pp.scale(test3, zero_center=True, max_value=10, copy=False, layer=None, obsm=None)\n",
    "\n",
    "cell_cycle_genes=[x.strip()[0] + x.strip()[1:] for x in open(\"/data/Projects/phenomata/01.Projects/11.Vascular_Aging/Database/regev_lab_cell_cycle_genes.txt\")]\n",
    "s_genes= cell_cycle_genes[:43]\n",
    "g2m_genes= cell_cycle_genes[43:]\n",
    "cell_cycle_genes = [x for x in cell_cycle_genes if x in integrated.var_names]\n",
    "sc.tl.score_genes_cell_cycle(integrated, s_genes=s_genes, g2m_genes=g2m_genes)\n",
    "\"\"\"\n",
    "Used 'raw' attribute of adata (use_raw = True if .raw is present)\n",
    "So, log-tranformed scran-normalized counts are put into score_genes_cell_cycle function\n",
    "\"\"\"\n",
    "\n",
    "df = integrated.obs[['batch', 'phase']]\n",
    "ax = pd.crosstab(df['batch'], df['phase'], normalize='index', margins=True).plot.bar(stacked=True, rot=45, color={'S': '#689aff', 'G2M': '#fdbf6f', 'G1': '#b15928'})\n",
    "ax.legend(loc='upper left', bbox_to_anchor=(1.01, 0.25), frameon=False)\n",
    "ax.set_ylabel('Proportion of Cell Cycle Phase')\n",
    "ax.set_xlabel(\"\")\n",
    "plt.tight_layout()\n",
    "sns.despine()\n",
    "\n",
    "sc.tl.pca(integrated, n_comps=100, use_highly_variable=True, svd_solver='arpack')\n",
    "\n",
    "sc.pl.pca_variance_ratio(integrated, n_pcs=100, log=False)\n",
    "sc.pl.pca(integrated, color=['batch', 'n_counts'], legend_loc='on data', size=8, add_outline=False, color_map='CMRmap', components=['1,2'], title=['', 'UMI count'])\n",
    "sns.despine()\n",
    "\n",
    "#sce.pp.bbknn default ==> n_pcs=50, neighbors_within_batch=3, trim=None, annoy_n_trees=10,\n",
    "sce.pp.bbknn(integrated, batch_key='batch', n_pcs=20, neighbors_within_batch=5, trim=None)\n",
    "sc.tl.umap(integrated, min_dist=0.5, spread=1.0, n_components=2, alpha=1.0, gamma=1.0, init_pos='spectral', method='umap')\n",
    "#integrated.uns['batch_colors'] = ['#689aff', '#fdbf6f', '#b15928']\n",
    "sc.pl.umap(integrated, color=['batch'], add_outline=False, legend_loc='on data', size=20, title='')\n",
    "sns.despine()\n",
    "\n",
    "fig, axes = plt.subplots(3,1,figsize=(4.5,15.5))\n",
    "for i in range(len(integrated.obs['batch'].cat.categories)):\n",
    "    sc.pl.umap(integrated, color=['batch'], add_outline=False, legend_loc=None, groups=integrated.obs['batch'].cat.categories[i], title=integrated.obs['batch'].cat.categories[i], size=20, ax=axes[i])\n",
    "    sns.despine(ax=axes[i])\n"
   ]
  },
  {
   "cell_type": "code",
   "execution_count": null,
   "metadata": {},
   "outputs": [],
   "source": [
    "sc.tl.rank_genes_groups(integrated, 'batch', method='wilcoxon', corr_method='benjamini-hochberg', use_raw=True, pts=True, key_added='DEG_bw_batches_wilcoxon') # key_added=''\n",
    "\n",
    "sc.pl.rank_genes_groups(integrated, n_genes=15, sharey=False, key='DEG_bw_batches_wilcoxon')\n",
    "\n",
    "ax_dict = sc.pl.rank_genes_groups_heatmap(integrated, n_genes=15, groupby='batch', key='DEG_bw_batches_wilcoxon', groups=['AK1', 'iPSC', 'NPC'], show_gene_labels=True, min_logfoldchange=1, dendrogram=False, cmap='viridis', use_raw=False, swap_axes=True, show=False, var_group_rotation=90)\n",
    "ax_dict['heatmap_ax'].set_yticklabels(labels=ax_dict['heatmap_ax'].get_yticklabels(), fontstyle='italic')\n",
    "\n",
    "\n",
    "markers = [\"Pecam1\", \"Cdh5\", \"Nos3\", \"Acta2\", \"Cnn1\", \"Tagln\", \"Rgs5\", \"Kcnj8\", \"Col1a1\", \"Col5a1\", \"Dpt\", \"Cd19\", \"Ighm\", \"Cd14\", \"Cd68\", \"Cd3d\"] # Cd3g 없음\n",
    "sc.pl.stacked_violin(test3, markers, groupby='batch')\n",
    "\n",
    "result = test3.uns['rank_genes_groups']\n",
    "groups = result['names'].dtype.names\n",
    "deg_wilcoxon = pd.DataFrame({group + '_' + key: result[key][group] for group in groups for key in ['names', 'logfoldchanges', 'scores', 'pvals_adj']})\n",
    "deg_wilcoxon.to_csv(\"/data/Projects/phenomata/01.Projects/11.Vascular_Aging/03.Scanpy/20210916_scanpy_deg.csv\", mode='w')\n"
   ]
  },
  {
   "cell_type": "code",
   "execution_count": null,
   "metadata": {},
   "outputs": [],
   "source": [
    "# AK1 (B-lymphocyte) specific gene\n",
    "genes = ['CD19', 'MS4A1'] # MS4A1 (CD20)\n",
    "fig, axes = plt.subplots(1, 2, figsize=(10, 5), constrained_layout=True)\n",
    "for i in range(len(genes)):\n",
    "    sc.pl.umap(integrated, color=genes[i], add_outline=False, legend_loc='right margin', size=40, color_map='viridis', use_raw=True, ax=axes[i])\n",
    "    axes[i].set_title(genes[i], style='italic')\n",
    "    sns.despine(ax=axes[i])\n",
    "\n",
    "# iPSC-specific gene\n",
    "genes = ['POU5F1', 'SOX2', 'NANOG'] # JARID2\n",
    "fig, axes = plt.subplots(1, 3, figsize=(15, 10), constrained_layout=True)\n",
    "for i in range(len(genes)):\n",
    "    sc.pl.umap(integrated, color=genes[i], add_outline=False, legend_loc='right margin', size=40, color_map='viridis', use_raw=True, ax=axes[i])\n",
    "    axes[i].set_title(genes[i], style='italic')\n",
    "    sns.despine(ax=axes[i])\n",
    "\n",
    "\n",
    "# NPC-specific gene\n",
    "genes = ['NCAM1', 'KMT2D']\n",
    "fig, axes = plt.subplots(1, 2, figsize=(10, 5), constrained_layout=True)\n",
    "for i in range(len(genes)):\n",
    "    sc.pl.umap(integrated, color=genes[i], add_outline=False, legend_loc='right margin', size=40, color_map='viridis', use_raw=True, ax=axes[i])\n",
    "    axes[i].set_title(genes[i], style='italic')\n",
    "    sns.despine(ax=axes[i])"
   ]
  },
  {
   "cell_type": "code",
   "execution_count": null,
   "metadata": {},
   "outputs": [],
   "source": [
    "\n",
    "sc.tl.leiden(test3, resolution=0.5, key_added='leiden_r05') #### 0 ~ 13 ==> 2021-09-28\n",
    "sc.tl.leiden(test3, resolution=1.0, key_added='leiden_r10')\n",
    "sc.pl.umap(test3, color=['batch', 'leiden_r05', 'leiden_r10'], add_outline=False, legend_loc='right margin', size=20)\n",
    "\n",
    "fig, axes = plt.subplots(1,3)\n",
    "sc.pl.umap(test3, color=['batch'], add_outline=False, legend_loc='right margin', size=20, groups=['m01'], title='1 month', ax=axes[0])\n",
    "sc.pl.umap(test3, color=['batch'], add_outline=False, legend_loc='right margin', size=20, groups=['m10'], title='10 months', ax=axes[1])\n",
    "sc.pl.umap(test3, color=['batch'], add_outline=False, legend_loc='right margin', size=20, groups=['m20'], title='20 months', ax=axes[2])\n"
   ]
  },
  {
   "cell_type": "code",
   "execution_count": null,
   "metadata": {},
   "outputs": [],
   "source": []
  },
  {
   "cell_type": "code",
   "execution_count": null,
   "metadata": {},
   "outputs": [],
   "source": []
  },
  {
   "cell_type": "code",
   "execution_count": null,
   "metadata": {},
   "outputs": [],
   "source": []
  },
  {
   "cell_type": "markdown",
   "metadata": {},
   "source": [
    "#### Diffusion pseudotime (Experimental)"
   ]
  },
  {
   "cell_type": "code",
   "execution_count": null,
   "metadata": {},
   "outputs": [],
   "source": [
    "sc.tl.diffmap(integrated)\n",
    "sc.pl.diffmap(integrated, color=['batch'], add_outline=False, legend_loc='right margin', size=70, color_map='CMRmap')\n",
    "\n",
    "\n",
    "sc.tl.draw_graph(test3, layout='fa', init_pos=None, neighbors_key=None) ## init_pos가 .obsm에 있는 pca, umap, paga 등이 될 수 있다.\n",
    "sc.pl.draw_graph(test3, color=['batch', 'PECAM1', 'CDH5', 'phase'], add_outline=True, legend_loc='right margin', size=10, color_map='CMRmap')\n",
    "\n",
    "start_cell = np.isin(test3_endo.obs['endo_leiden_r05'], '0') # boolean numpy array ==> array([False, False, False, ..., False, False, False])\n",
    "#max_start_id = np.argmin(test3_endo.obsm['X_diffmap'][start_cell,1]) # 262\n",
    "max_start_id = np.argmax(test3_endo.obsm['X_diffmap'][start_cell,1])\n",
    "root_id = np.arange(len(start_cell))[start_cell][max_start_id] # 341\n",
    "test3_endo.uns['iroot'] = root_id\n",
    "\n",
    "sc.tl.dpt(test3_endo, n_branchings=1, n_dcs=10) # n_branchings를 0으로 하면 (recommended by Scanpy developer) dpt_groups가 생성 안 됨.\n",
    "#computing Diffusion Pseudotime using n_dcs=10\n",
    "sc.pl.dpt_groups_pseudotime(test3_endo) # 여기에서 pseudotime trajecgory 확인.\n",
    "\n",
    "lin = ('2', '0', '3', '1') # DPT pseudotime group ordering에 맞게 배치\n",
    "test3_endo.obs['dpt_groups'] = test3_endo.obs['dpt_groups'].cat.reorder_categories(list(lin), ordered=True)\n",
    "sc.pl.dpt_groups_pseudotime(test3_endo) # 다시 ordering에 맞게 plotting\n",
    "sc.pl.dpt_timeseries(test3_endo[:, test3_endo.var.highly_variable])\n",
    "\n"
   ]
  },
  {
   "cell_type": "markdown",
   "metadata": {},
   "source": [
    "#### Force-Directged Graph (Experimental)"
   ]
  },
  {
   "cell_type": "code",
   "execution_count": null,
   "metadata": {},
   "outputs": [],
   "source": [
    "sc.tl.draw_graph(integrated, layout='fa', init_pos=None, neighbors_key=None) ## init_pos가 .obsm에 있는 pca, umap, paga 등이 될 수 있다.\n",
    "sc.pl.draw_graph(integrated, color=['batch'], add_outline=True, legend_loc='on data', size=40, color_map='CMRmap')\n"
   ]
  },
  {
   "cell_type": "code",
   "execution_count": null,
   "metadata": {},
   "outputs": [],
   "source": []
  }
 ],
 "metadata": {
  "kernelspec": {
   "display_name": "Python 3.9.13 ('base')",
   "language": "python",
   "name": "python3"
  },
  "language_info": {
   "codemirror_mode": {
    "name": "ipython",
    "version": 3
   },
   "file_extension": ".py",
   "mimetype": "text/x-python",
   "name": "python",
   "nbconvert_exporter": "python",
   "pygments_lexer": "ipython3",
   "version": "3.9.13"
  },
  "orig_nbformat": 4,
  "vscode": {
   "interpreter": {
    "hash": "ad2bdc8ecc057115af97d19610ffacc2b4e99fae6737bb82f5d7fb13d2f2c186"
   }
  }
 },
 "nbformat": 4,
 "nbformat_minor": 2
}
