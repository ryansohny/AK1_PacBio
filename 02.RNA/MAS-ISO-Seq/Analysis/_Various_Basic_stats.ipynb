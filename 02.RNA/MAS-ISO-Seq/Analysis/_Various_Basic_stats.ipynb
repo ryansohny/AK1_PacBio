{
 "cells": [
  {
   "cell_type": "code",
   "execution_count": null,
   "metadata": {},
   "outputs": [],
   "source": [
    "import pandas as pd\n",
    "import matplotlib.pyplot as plt\n",
    "import seaborn as sns\n",
    "sns.set(font=\"arial\", font_scale=1.15, style='ticks')\n",
    "plt.rcParams['figure.figsize'] = (6,6)\n",
    "plt.rc(\"axes.spines\", top=False, right=False)"
   ]
  },
  {
   "cell_type": "code",
   "execution_count": null,
   "metadata": {},
   "outputs": [],
   "source": [
    "ak1 = pd.read_table('./AK1_collapsed_classification.filtered_lite_classification.txt')\n",
    "ipsc = pd.read_table('./iPSC_collapsed_classification.filtered_lite_classification.txt')\n",
    "npc = pd.read_table('./NPC_collapsed_classification.filtered_lite_classification.txt')\n",
    "\n",
    "name_replace = {'novel_not_in_catalog': 'NNC', 'incomplete-splice_match': 'ISM', 'full-splice_match': 'FSM', 'novel_in_catalog': 'NIC', 'intergenic': 'Intergenic', 'antisense': 'Antisense', 'fusion': 'Fusion', 'genic': 'Genic', 'moreJunctions': 'Others'}\n",
    "name_order = ['NNC', 'NIC', 'FSM', 'ISM', 'Genic', 'Intergenic', 'Antisense', 'Fusion', 'Others']\n",
    "ak1['structural_category'] = ak1['structural_category'].replace(name_replace)\n",
    "ipsc['structural_category'] = ipsc['structural_category'].replace(name_replace)\n",
    "npc['structural_category'] = npc['structural_category'].replace(name_replace)\n"
   ]
  },
  {
   "cell_type": "code",
   "execution_count": null,
   "metadata": {},
   "outputs": [],
   "source": [
    "ak1_category_counts = ak1['structural_category'].value_counts()\n",
    "ak1_category_percentages = ak1_category_counts / len(ak1) * 100\n",
    "\n",
    "ipsc_category_counts = ipsc['structural_category'].value_counts()\n",
    "ipsc_category_percentages = ipsc_category_counts / len(ipsc) * 100\n",
    "\n",
    "npc_category_counts = npc['structural_category'].value_counts()\n",
    "npc_category_percentages = npc_category_counts / len(npc) * 100"
   ]
  },
  {
   "cell_type": "code",
   "execution_count": null,
   "metadata": {},
   "outputs": [],
   "source": [
    "fig, ax = plt.subplots(figsize=(7, 5), constrained_layout=True)\n",
    "sns.barplot(x=ak1_category_percentages.values, y=ak1_category_percentages.index, color='skyblue', order=name_order, ax=ax)\n",
    "ax.set_xlabel('Percentage of Isoforms')\n",
    "ax.set_ylabel('Structural Cateogry of Isoforms')\n",
    "ax.set_title('AK1 MAS-Iso-Seq')\n",
    "ax.set_xlim(0, 35)\n",
    "plt.savefig('AK1_isoform_category.png')\n",
    "plt.clf()\n",
    "\n",
    "fig, ax = plt.subplots(figsize=(7, 5), constrained_layout=True)\n",
    "sns.barplot(x=ipsc_category_percentages.values, y=ipsc_category_percentages.index, color='skyblue', order=name_order, ax=ax)\n",
    "ax.set_xlabel('Percentage of Isoforms')\n",
    "ax.set_ylabel('Structural Cateogry of Isoforms')\n",
    "ax.set_title('iPSC MAS-Iso-Seq')\n",
    "ax.set_xlim(0, 35)\n",
    "plt.savefig('iPSC_isoform_category.png')\n",
    "plt.clf()\n",
    "\n",
    "fig, ax = plt.subplots(figsize=(7, 5), constrained_layout=True)\n",
    "sns.barplot(x=npc_category_percentages.values, y=npc_category_percentages.index, color='skyblue', order=name_order, ax=ax)\n",
    "ax.set_xlabel('Percentage of Isoforms')\n",
    "ax.set_ylabel('Structural Cateogry of Isoforms')\n",
    "ax.set_title('NPC MAS-Iso-Seq')\n",
    "ax.set_xlim(0, 35)\n",
    "plt.savefig('NPC_isoform_category.png')\n",
    "plt.clf()"
   ]
  }
 ],
 "metadata": {
  "kernelspec": {
   "display_name": "base",
   "language": "python",
   "name": "python3"
  },
  "language_info": {
   "name": "python",
   "version": "3.9.13"
  }
 },
 "nbformat": 4,
 "nbformat_minor": 2
}
