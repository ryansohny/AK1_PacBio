{
 "cells": [
  {
   "cell_type": "code",
   "execution_count": null,
   "metadata": {},
   "outputs": [],
   "source": [
    "# in cm03 scanpy_1.9.3 environment\n",
    "import os\n",
    "import pandas as pd\n",
    "import numpy as np\n",
    "import seaborn as sns\n",
    "import matplotlib.pyplot as plt\n",
    "import matplotlib.ticker\n",
    "sns.set(font=\"Arial\", font_scale=1.15, style='ticks')\n",
    "plt.rc(\"axes.spines\", top=False, right=False)"
   ]
  },
  {
   "cell_type": "code",
   "execution_count": null,
   "metadata": {},
   "outputs": [],
   "source": [
    "bamPEFragmentSize=\"/mnt/mone/Project/WC300/Tools/Anaconda3/envs/deeptools/bin/bamPEFragmentSize\"\n",
    "samtools=\"/mnt/mone/Project/WC300/Tools/Anaconda3/bin/samtools\"\n",
    "sed='/bin/sed'\n",
    "#sed='/usr/bin/sed'"
   ]
  },
  {
   "cell_type": "code",
   "execution_count": null,
   "metadata": {},
   "outputs": [],
   "source": [
    "os.system('f{bamPEFragmentSize} \\\n",
    "--bamfiles AK1_haplotagged_wIndels.bam \\\n",
    "--histogram AK1_HiFi_fragment_length_distribution.pdf \\\n",
    "--numberOfProcessors 55 \\\n",
    "--samplesLabel AK1_HiFi \\\n",
    "--plotTitle \"Fragment Size of AK1 HiFi Data\" \\\n",
    "--maxFragmentLength 0 \\\n",
    "--outRawFragmentLengths Fragment_Lengths_HiFi_Raw.tab \\\n",
    "--verbose')"
   ]
  },
  {
   "cell_type": "code",
   "execution_count": null,
   "metadata": {},
   "outputs": [],
   "source": [
    "input_file=\"Fragment_Lengths_HiFi_Raw.tab\"\n",
    "output_file=\"Fragment_Lengths_HiFi_Raw_modified.tab\"\n",
    "line_count = os.popen(f'wc -l {input_file}').read().split()[0]"
   ]
  },
  {
   "cell_type": "code",
   "execution_count": null,
   "metadata": {},
   "outputs": [],
   "source": [
    "os.system(f'{sed} -n 2,{line_count}p {input_file} > {output_file}')"
   ]
  },
  {
   "cell_type": "code",
   "execution_count": null,
   "metadata": {},
   "outputs": [],
   "source": [
    "df = pd.read_table(f'{output_file}')\n",
    "cumul_percentage = (df['Occurrences'].cumsum() / df['Occurrences'].sum()) * 100\n",
    "df['Cumulative Percentage'] = cumul_percentage"
   ]
  },
  {
   "cell_type": "code",
   "execution_count": null,
   "metadata": {},
   "outputs": [],
   "source": [
    "ax = sns.histplot(data=df, x=\"Size\", weights=\"Occurrences\", stat='percent', bins=100, kde=True, color=\"black\")\n",
    "ax.set_xlabel(\"Length of region mapped by HiFi reads (bp)\")\n",
    "ax.set_ylabel(\"Percentage (%)\")\n",
    "plt.tight_layout()"
   ]
  },
  {
   "cell_type": "code",
   "execution_count": null,
   "metadata": {},
   "outputs": [],
   "source": [
    "ax = sns.histplot(data=df, x=\"Size\", weights=\"Occurrences\", stat='percent', bins=100, cumulative=True, element=\"poly\", fill=False, color=\"black\")\n",
    "ax.get_xaxis().set_major_formatter(matplotlib.ticker.FuncFormatter(lambda x, p: format(int(x), ',')))\n",
    "ax.axvline(x=18704, color='blue', linestyle='--')\n",
    "ax.axhline(y=df[df['Size'] == 18704]['Cumulative Percentage'].values, color='blue', linestyle='--')\n",
    "ax.text(x=18704-3000, y=ax.get_ylim()[1]+3, s=f'18,704bp ({np.round(df[df[\"Size\"] == 18704][\"Cumulative Percentage\"].values, 2)[0]}%)', color='blue', size='x-small') # x-50 for plot aesthetics\n",
    "ax.axvline(x=24722, color='red', linestyle='--')\n",
    "ax.axhline(y=df[df['Size'] == 24722]['Cumulative Percentage'].values, color='red', linestyle='--')\n",
    "ax.text(x=24722-1000, y=ax.get_ylim()[1]+1, s=f'24,722bp ({np.round(df[df[\"Size\"] == 24722][\"Cumulative Percentage\"].values, 2)[0]}%)', color='red', size='x-small') # x-50 for plot aesthetics\n",
    "ax.set_xlabel(\"Length of region mapped by HiFi reads (bp)\")\n",
    "ax.set_ylabel(\"Percentage (%)\")\n",
    "ax.set_title(\"Empirical CDF\", y=1.05)\n",
    "plt.tight_layout()"
   ]
  },
  {
   "cell_type": "code",
   "execution_count": null,
   "metadata": {},
   "outputs": [],
   "source": [
    "# Mean Fragment Size\n",
    "(df['Size'] * df['Occurrences']).sum() / df['Occurrences'].sum()"
   ]
  }
 ],
 "metadata": {
  "language_info": {
   "name": "python"
  },
  "orig_nbformat": 4
 },
 "nbformat": 4,
 "nbformat_minor": 2
}
