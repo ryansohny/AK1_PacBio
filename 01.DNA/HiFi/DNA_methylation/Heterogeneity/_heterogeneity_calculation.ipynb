{
 "cells": [
  {
   "cell_type": "code",
   "execution_count": null,
   "metadata": {},
   "outputs": [],
   "source": [
    "import pysam\n",
    "\n",
    "ak1 = pysam.AlignmentFile(\"chr20_500000-1000000_AK1.bam\", 'rb')\n",
    "a = next(ak1)\n",
    "b = next(ak1)\n",
    "\n",
    "a.get_tag('MM')\n",
    "a.get_tag('ML')\n",
    "a.query_name\n",
    "\n",
    "#Negative 일 경우\n",
    "for pos, prob in list(a.modified_bases.values())[0]:\n",
    "    if a.seq[pos-1: pos+1] != 'CG':\n",
    "        print('fuck')\n",
    "#Positive 일 경우\n",
    "for pos, prob in list(b.modified_bases.values())[0]:\n",
    "    if b.seq[pos: pos+2] != 'CG':\n",
    "        print('fuck')\n",
    "        \n",
    "        \n",
    "        \n"
   ]
  },
  {
   "cell_type": "code",
   "execution_count": null,
   "metadata": {},
   "outputs": [],
   "source": []
  },
  {
   "cell_type": "markdown",
   "metadata": {},
   "source": [
    "modkit motif-bed /mnt/mone/Project/AK1_PacBio/Tools/Reference/GRCh38/DNA/hg38.analysisSet.fa CG 0 > hg38.analysisSet_CG.bed\n",
    "modkit extract chr20_500000-1000000_AK1.bam chr20_500000-1000000_AK1_CpG.tsv --region chr20 --ref /mnt/mone/Project/AK1_PacBio/Tools/Reference/GRCh38/DNA/hg38.analysisSet.fa --include-bed hg38.analysisSet_CG.bed"
   ]
  }
 ],
 "metadata": {
  "language_info": {
   "name": "python"
  }
 },
 "nbformat": 4,
 "nbformat_minor": 2
}
