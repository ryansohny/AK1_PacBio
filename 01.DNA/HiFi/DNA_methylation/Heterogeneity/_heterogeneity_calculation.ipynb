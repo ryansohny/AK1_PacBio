{
 "cells": [
  {
   "cell_type": "code",
   "execution_count": null,
   "metadata": {},
   "outputs": [],
   "source": [
    "import pysam\n",
    "\n",
    "ak1 = pysam.AlignmentFile(\"chr20_500000-1000000_AK1.bam\", 'rb')\n",
    "a = next(ak1)\n",
    "b = next(ak1)\n",
    "\n",
    "a.get_tag('MM')\n",
    "a.get_tag('ML')"
   ]
  }
 ],
 "metadata": {
  "language_info": {
   "name": "python"
  }
 },
 "nbformat": 4,
 "nbformat_minor": 2
}
