{
 "cells": [
  {
   "cell_type": "code",
   "execution_count": null,
   "metadata": {},
   "outputs": [],
   "source": [
    "import pysam\n",
    "\n",
    "ak1 = pysam.AlignmentFile(\"chr20_500000-1000000_AK1.bam\", 'rb')\n",
    "a = next(ak1)\n",
    "b = next(ak1)\n",
    "\n",
    "a.get_tag('MM')\n",
    "a.get_tag('ML')\n",
    "\n",
    "#Negative 일 경우\n",
    "for pos, prob in list(a.modified_bases.values())[0]:\n",
    "    if a.seq[pos-1: pos+1] != 'CG':\n",
    "        print('fuck')\n",
    "#Positive 일 경우\n",
    "for pos, prob in list(b.modified_bases.values())[0]:\n",
    "    if b.seq[pos: pos+2] != 'CG':\n",
    "        print('fuck')   "
   ]
  }
 ],
 "metadata": {
  "language_info": {
   "name": "python"
  }
 },
 "nbformat": 4,
 "nbformat_minor": 2
}
