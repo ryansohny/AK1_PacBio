{
 "cells": [
  {
   "cell_type": "code",
   "execution_count": 3,
   "metadata": {},
   "outputs": [
    {
     "ename": "AttributeError",
     "evalue": "module 'pysam' has no attribute 'Ali'",
     "output_type": "error",
     "traceback": [
      "\u001b[0;31m---------------------------------------------------------------------------\u001b[0m",
      "\u001b[0;31mAttributeError\u001b[0m                            Traceback (most recent call last)",
      "\u001b[1;32m/Users/mhryansohn/Desktop/01.Workspace/01.Projects/03.AK1-PacBio/GitHub_Repo/AK1_PacBio/01.DNA/HiFi/DNA_methylation/Heterogeneity/_heterogeneity_calculation.ipynb Cell 1\u001b[0m line \u001b[0;36m5\n\u001b[1;32m      <a href='vscode-notebook-cell:/Users/mhryansohn/Desktop/01.Workspace/01.Projects/03.AK1-PacBio/GitHub_Repo/AK1_PacBio/01.DNA/HiFi/DNA_methylation/Heterogeneity/_heterogeneity_calculation.ipynb#W0sZmlsZQ%3D%3D?line=1'>2</a>\u001b[0m \u001b[39mfrom\u001b[39;00m \u001b[39mtqdm\u001b[39;00m \u001b[39mimport\u001b[39;00m tqdm\n\u001b[1;32m      <a href='vscode-notebook-cell:/Users/mhryansohn/Desktop/01.Workspace/01.Projects/03.AK1-PacBio/GitHub_Repo/AK1_PacBio/01.DNA/HiFi/DNA_methylation/Heterogeneity/_heterogeneity_calculation.ipynb#W0sZmlsZQ%3D%3D?line=3'>4</a>\u001b[0m \u001b[39mdir\u001b[39m\u001b[39m=\u001b[39m\u001b[39m\"\u001b[39m\u001b[39m/Users/mhryansohn/Desktop/01.Workspace/01.Projects/03.AK1-PacBio/01.DNA/Public_Data/HG002\u001b[39m\u001b[39m\"\u001b[39m\n\u001b[0;32m----> <a href='vscode-notebook-cell:/Users/mhryansohn/Desktop/01.Workspace/01.Projects/03.AK1-PacBio/GitHub_Repo/AK1_PacBio/01.DNA/HiFi/DNA_methylation/Heterogeneity/_heterogeneity_calculation.ipynb#W0sZmlsZQ%3D%3D?line=4'>5</a>\u001b[0m hg002 \u001b[39m=\u001b[39m pysam\u001b[39m.\u001b[39;49mAli\n\u001b[1;32m      <a href='vscode-notebook-cell:/Users/mhryansohn/Desktop/01.Workspace/01.Projects/03.AK1-PacBio/GitHub_Repo/AK1_PacBio/01.DNA/HiFi/DNA_methylation/Heterogeneity/_heterogeneity_calculation.ipynb#W0sZmlsZQ%3D%3D?line=5'>6</a>\u001b[0m ak1 \u001b[39m=\u001b[39m pysam\u001b[39m.\u001b[39mAlignmentFile(\u001b[39m\"\u001b[39m\u001b[39mchr20_500000-1000000_AK1.bam\u001b[39m\u001b[39m\"\u001b[39m, \u001b[39m'\u001b[39m\u001b[39mrb\u001b[39m\u001b[39m'\u001b[39m)\n\u001b[1;32m      <a href='vscode-notebook-cell:/Users/mhryansohn/Desktop/01.Workspace/01.Projects/03.AK1-PacBio/GitHub_Repo/AK1_PacBio/01.DNA/HiFi/DNA_methylation/Heterogeneity/_heterogeneity_calculation.ipynb#W0sZmlsZQ%3D%3D?line=6'>7</a>\u001b[0m a \u001b[39m=\u001b[39m \u001b[39mnext\u001b[39m(ak1)\n",
      "\u001b[0;31mAttributeError\u001b[0m: module 'pysam' has no attribute 'Ali'"
     ]
    }
   ],
   "source": [
    "import pysam\n",
    "from tqdm import tqdm\n",
    "import numpy as np\n",
    "'''\n",
    "dir=\"/Users/mhryansohn/Desktop/01.Workspace/01.Projects/03.AK1-PacBio/01.DNA/Public_Data/HG002\"\n",
    "hg002 = pysam.Ali\n",
    "ak1 = pysam.AlignmentFile(\"chr20_500000-1000000_AK1.bam\", 'rb')\n",
    "a = next(ak1)\n",
    "b = next(ak1)\n",
    "a.tags # get all tags into list \n",
    "tag_name =  [tag[0] for tag in a.tags]\n",
    "\n",
    "a.get_tag('MM')\n",
    "a.get_tag('ML')\n",
    "a.query_name\n",
    "'''\n",
    "'''\n",
    "The continuous probability range of 0.0 to 1.0 is remapped to the discrete integers 0 to 255 \n",
    "inclusively in the ML tag. The probability range corresponding to an integer N is N/256 to (N + 1)/256.\n",
    "'''\n",
    "'''\n",
    "#Negative 일 경우\n",
    "for pos, prob in list(a.modified_bases.values())[0]:\n",
    "    if a.seq[pos-1: pos+1] != 'CG':\n",
    "        print('fuck')\n",
    "#Positive 일 경우\n",
    "for pos, prob in list(b.modified_bases.values())[0]:\n",
    "    if b.seq[pos: pos+2] != 'CG':\n",
    "        print('fuck')\n",
    "'''\n",
    "\n",
    "for read in ak1:\n",
    "    if read.has_tag('MM') and read.has_tag('ML'):\n",
    "        print('fuck')\n",
    "    \n",
    "def get_read_level_cg(read_segment, pos):\n",
    "    if read_segment.modified_bases != {}:\n",
    "        # need to specify read.is_reverse == True or != True\n",
    "        cg_ml = dict(list(read_segment.modified_bases.values())[0]) # read-level cytosine location and ML\n",
    "        cg_met = list()\n",
    "        if read.is_reverse:\n",
    "            cg_ml = {key-1: value for key, value in cg_ml.items()}\n",
    "        for k,v in read_segment.get_aligned_pairs(): # read-based coordinate and corresponding reference coordinate\n",
    "            if v in pos:\n",
    "                try:\n",
    "                    cg_met.append(cg_ml[k]/256)\n",
    "                except KeyError:\n",
    "                    cg_met.append(np.nan)\n",
    "        return np.array(cg_met)\n",
    "\n",
    "def make_cg_matrix(alignmentfile, refcgtab, coordinate):\n",
    "    '''alignmentfile = pysam.AlignmentFile(\"chr20_500000-1000000_AK1.bam\", 'rb')'''\n",
    "    cg_pos = list(map(lambda x: int(x), refcgtab.loc[coordinate]['CG_Pos'].rstrip(';').split(';')))\n",
    "    chrom = coordinate.split(':')[0]\n",
    "    start, end = int(coordinate.split(':')[1].split('-')[0]), int(coordinate.split(':')[1].split('-')[1])\n",
    "    cg_matrix_list = list()\n",
    "    for read in alignmentfile.fetch(chrom, start, end):\n",
    "        cg_matrix_list.append(get_read_level_cg(read, cg_pos))\n",
    "        print(read.query_name, cg_matrix_list)\n",
    "    return np.array(cg_matrix_list)\n",
    "\n",
    "dict(list(read3.modified_bases.values())[0]) # read-level cytosine location: ML\n",
    "read3.get_aligned_pairs() # read position, reference coordinate\n",
    "\n",
    "ref_10kb_cg = pd.read_table(\"10kb_CG_Information_hg38_primary_chrX.tab\", index_col=0)\n",
    "\n",
    "cg_pos = list(map(lambda x: int(x), ref_10kb_cg.loc['chr20:500000-510000']['CG_Pos'].rstrip(';').split(';')))\n",
    "\n",
    "for i in cg_pos:\n",
    "    \n"
   ]
  },
  {
   "cell_type": "code",
   "execution_count": null,
   "metadata": {},
   "outputs": [],
   "source": []
  },
  {
   "cell_type": "markdown",
   "metadata": {},
   "source": [
    "modkit motif-bed /mnt/mone/Project/AK1_PacBio/Tools/Reference/GRCh38/DNA/hg38.analysisSet.fa CG 0 > hg38.analysisSet_CG.bed\n",
    "modkit extract chr20_500000-1000000_AK1.bam chr20_500000-1000000_AK1_CpG.tsv --region chr20 --ref /mnt/mone/Project/AK1_PacBio/Tools/Reference/GRCh38/DNA/hg38.analysisSet.fa --include-bed hg38.analysisSet_CG.bed"
   ]
  },
  {
   "cell_type": "code",
   "execution_count": null,
   "metadata": {},
   "outputs": [],
   "source": []
  }
 ],
 "metadata": {
  "kernelspec": {
   "display_name": "pysam",
   "language": "python",
   "name": "python3"
  },
  "language_info": {
   "codemirror_mode": {
    "name": "ipython",
    "version": 3
   },
   "file_extension": ".py",
   "mimetype": "text/x-python",
   "name": "python",
   "nbconvert_exporter": "python",
   "pygments_lexer": "ipython3",
   "version": "3.9.13"
  }
 },
 "nbformat": 4,
 "nbformat_minor": 2
}
