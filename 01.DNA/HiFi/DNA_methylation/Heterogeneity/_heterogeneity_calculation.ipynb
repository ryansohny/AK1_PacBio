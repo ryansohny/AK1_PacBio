{
 "cells": [
  {
   "cell_type": "code",
   "execution_count": 3,
   "metadata": {},
   "outputs": [
    {
     "ename": "AttributeError",
     "evalue": "module 'pysam' has no attribute 'Ali'",
     "output_type": "error",
     "traceback": [
      "\u001b[0;31m---------------------------------------------------------------------------\u001b[0m",
      "\u001b[0;31mAttributeError\u001b[0m                            Traceback (most recent call last)",
      "\u001b[1;32m/Users/mhryansohn/Desktop/01.Workspace/01.Projects/03.AK1-PacBio/GitHub_Repo/AK1_PacBio/01.DNA/HiFi/DNA_methylation/Heterogeneity/_heterogeneity_calculation.ipynb Cell 1\u001b[0m line \u001b[0;36m5\n\u001b[1;32m      <a href='vscode-notebook-cell:/Users/mhryansohn/Desktop/01.Workspace/01.Projects/03.AK1-PacBio/GitHub_Repo/AK1_PacBio/01.DNA/HiFi/DNA_methylation/Heterogeneity/_heterogeneity_calculation.ipynb#W0sZmlsZQ%3D%3D?line=1'>2</a>\u001b[0m \u001b[39mfrom\u001b[39;00m \u001b[39mtqdm\u001b[39;00m \u001b[39mimport\u001b[39;00m tqdm\n\u001b[1;32m      <a href='vscode-notebook-cell:/Users/mhryansohn/Desktop/01.Workspace/01.Projects/03.AK1-PacBio/GitHub_Repo/AK1_PacBio/01.DNA/HiFi/DNA_methylation/Heterogeneity/_heterogeneity_calculation.ipynb#W0sZmlsZQ%3D%3D?line=3'>4</a>\u001b[0m \u001b[39mdir\u001b[39m\u001b[39m=\u001b[39m\u001b[39m\"\u001b[39m\u001b[39m/Users/mhryansohn/Desktop/01.Workspace/01.Projects/03.AK1-PacBio/01.DNA/Public_Data/HG002\u001b[39m\u001b[39m\"\u001b[39m\n\u001b[0;32m----> <a href='vscode-notebook-cell:/Users/mhryansohn/Desktop/01.Workspace/01.Projects/03.AK1-PacBio/GitHub_Repo/AK1_PacBio/01.DNA/HiFi/DNA_methylation/Heterogeneity/_heterogeneity_calculation.ipynb#W0sZmlsZQ%3D%3D?line=4'>5</a>\u001b[0m hg002 \u001b[39m=\u001b[39m pysam\u001b[39m.\u001b[39;49mAli\n\u001b[1;32m      <a href='vscode-notebook-cell:/Users/mhryansohn/Desktop/01.Workspace/01.Projects/03.AK1-PacBio/GitHub_Repo/AK1_PacBio/01.DNA/HiFi/DNA_methylation/Heterogeneity/_heterogeneity_calculation.ipynb#W0sZmlsZQ%3D%3D?line=5'>6</a>\u001b[0m ak1 \u001b[39m=\u001b[39m pysam\u001b[39m.\u001b[39mAlignmentFile(\u001b[39m\"\u001b[39m\u001b[39mchr20_500000-1000000_AK1.bam\u001b[39m\u001b[39m\"\u001b[39m, \u001b[39m'\u001b[39m\u001b[39mrb\u001b[39m\u001b[39m'\u001b[39m)\n\u001b[1;32m      <a href='vscode-notebook-cell:/Users/mhryansohn/Desktop/01.Workspace/01.Projects/03.AK1-PacBio/GitHub_Repo/AK1_PacBio/01.DNA/HiFi/DNA_methylation/Heterogeneity/_heterogeneity_calculation.ipynb#W0sZmlsZQ%3D%3D?line=6'>7</a>\u001b[0m a \u001b[39m=\u001b[39m \u001b[39mnext\u001b[39m(ak1)\n",
      "\u001b[0;31mAttributeError\u001b[0m: module 'pysam' has no attribute 'Ali'"
     ]
    }
   ],
   "source": [
    "import pysam\n",
    "from tqdm import tqdm\n",
    "\n",
    "dir=\"/Users/mhryansohn/Desktop/01.Workspace/01.Projects/03.AK1-PacBio/01.DNA/Public_Data/HG002\"\n",
    "hg002 = pysam.Ali\n",
    "ak1 = pysam.AlignmentFile(\"chr20_500000-1000000_AK1.bam\", 'rb')\n",
    "a = next(ak1)\n",
    "b = next(ak1)\n",
    "\n",
    "a.get_tag('MM')\n",
    "a.get_tag('ML')\n",
    "a.query_name\n",
    "\n",
    "#Negative 일 경우\n",
    "for pos, prob in list(a.modified_bases.values())[0]:\n",
    "    if a.seq[pos-1: pos+1] != 'CG':\n",
    "        print('fuck')\n",
    "#Positive 일 경우\n",
    "for pos, prob in list(b.modified_bases.values())[0]:\n",
    "    if b.seq[pos: pos+2] != 'CG':\n",
    "        print('fuck')\n",
    "        \n",
    "        \n",
    "        \n"
   ]
  },
  {
   "cell_type": "code",
   "execution_count": null,
   "metadata": {},
   "outputs": [],
   "source": []
  },
  {
   "cell_type": "markdown",
   "metadata": {},
   "source": [
    "modkit motif-bed /mnt/mone/Project/AK1_PacBio/Tools/Reference/GRCh38/DNA/hg38.analysisSet.fa CG 0 > hg38.analysisSet_CG.bed\n",
    "modkit extract chr20_500000-1000000_AK1.bam chr20_500000-1000000_AK1_CpG.tsv --region chr20 --ref /mnt/mone/Project/AK1_PacBio/Tools/Reference/GRCh38/DNA/hg38.analysisSet.fa --include-bed hg38.analysisSet_CG.bed"
   ]
  },
  {
   "cell_type": "code",
   "execution_count": null,
   "metadata": {},
   "outputs": [],
   "source": []
  }
 ],
 "metadata": {
  "kernelspec": {
   "display_name": "pysam",
   "language": "python",
   "name": "python3"
  },
  "language_info": {
   "codemirror_mode": {
    "name": "ipython",
    "version": 3
   },
   "file_extension": ".py",
   "mimetype": "text/x-python",
   "name": "python",
   "nbconvert_exporter": "python",
   "pygments_lexer": "ipython3",
   "version": "3.12.0"
  }
 },
 "nbformat": 4,
 "nbformat_minor": 2
}
