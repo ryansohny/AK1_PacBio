{
 "cells": [
  {
   "cell_type": "code",
   "execution_count": null,
   "metadata": {},
   "outputs": [],
   "source": [
    "import pandas as pd\n",
    "import seaborn as sns\n",
    "import matplotlib.pyplot as plt\n",
    "from scipy.stats import zscore\n",
    "from scipy.stats import pearsonr, spearmanr\n",
    "sns.set_theme(font=\"arial\", font_scale=1.15, style='ticks')\n",
    "plt.rcParams['figure.figsize'] = (6,6)\n",
    "plt.rc(\"axes.spines\", top=False, right=False)\n",
    "sample_palette = {'AK1':'#FF0000', 'iPSC':'#154360','NPC':'#229954'}"
   ]
  },
  {
   "cell_type": "markdown",
   "metadata": {},
   "source": [
    "\n",
    "## GRCh38"
   ]
  },
  {
   "cell_type": "markdown",
   "metadata": {},
   "source": [
    "### 10kb windows"
   ]
  },
  {
   "cell_type": "code",
   "execution_count": null,
   "metadata": {},
   "outputs": [],
   "source": [
    "ak1_10kb_hetero = pd.read_table(\"AK1_10kb_CG_Heterogeneity.tab\", index_col=0)\n",
    "ipsc_10kb_hetero = pd.read_table(\"iPSC_10kb_CG_Heterogeneity.tab\", index_col=0)\n",
    "npc_10kb_hetero = pd.read_table(\"NPC_10kb_CG_Heterogeneity.tab\", index_col=0)\n",
    "\n",
    "ak1_10kb_hetero['CG_Used_Prop'] = ak1_10kb_hetero.CG_Used * 100 / ak1_10kb_hetero.Ref_CG\n",
    "ipsc_10kb_hetero['CG_Used_Prop'] = ipsc_10kb_hetero.CG_Used * 100 / ipsc_10kb_hetero.Ref_CG\n",
    "npc_10kb_hetero['CG_Used_Prop'] = npc_10kb_hetero.CG_Used * 100 / npc_10kb_hetero.Ref_CG\n",
    "\n",
    "# Check if there are Outliers\n",
    "fig, axes = plt.subplots(1,3, figsize=(18, 6), constrained_layout=True)\n",
    "for u,v in enumerate([ak1_10kb_hetero, ipsc_10kb_hetero, npc_10kb_hetero]):\n",
    "    \n",
    "    \n",
    "    sns.regplot(data=v, x=\"Mean_euc\", y=\"Spanned_Reads\", \n",
    "                scatter_kws={\"fc\": sample_palette[list(sample_palette)[u]], \"ec\": sample_palette[list(sample_palette)[u]], \"s\": 15, \"alpha\": 0.2}, \n",
    "                line_kws={\"lw\":1, \"color\": \"black\", \"alpha\": 0.5}, ax=axes[u])\n",
    "    axes[u].set_xlabel(\"Z-score normalized mCG Heterogeneity\")\n",
    "    axes[u].set_ylabel(\"The number of fully spanned reads in the 10kb window\")\n",
    "    axes[u].set_title(list(sample_palette)[u])\n",
    "\n",
    "ak1_10kb_hetero['Mean_euc_zscore'] = zscore(ak1_10kb_hetero['Mean_euc'])\n",
    "ipsc_10kb_hetero['Mean_euc_zscore'] = zscore(ipsc_10kb_hetero['Mean_euc'])\n",
    "npc_10kb_hetero['Mean_euc_zscore'] = zscore(npc_10kb_hetero['Mean_euc'])\n",
    "\n",
    "ak1_10kb_hetero['Mean_euc_zscore'] = zscore(ak1_10kb_hetero['Mean_euc'])\n",
    "ipsc_10kb_hetero['Mean_euc_zscore'] = zscore(ipsc_10kb_hetero['Mean_euc'])\n",
    "npc_10kb_hetero['Mean_euc_zscore'] = zscore(npc_10kb_hetero['Mean_euc'])\n",
    "\n",
    "# Check if Mean_euc is not a good representation of Heterogeneity \n",
    "fig, axes = plt.subplots(1,3, figsize=(18, 6), constrained_layout=True)\n",
    "for u,v in enumerate([ak1_10kb_hetero, ipsc_10kb_hetero, npc_10kb_hetero]):\n",
    "    sns.regplot(data=v, x=\"Mean_euc_zscore\", y=\"Spanned_Reads\", \n",
    "                scatter_kws={\"fc\": sample_palette[list(sample_palette)[u]], \"ec\": sample_palette[list(sample_palette)[u]], \"s\": 15, \"alpha\": 0.2}, \n",
    "                line_kws={\"lw\":1, \"color\": \"black\", \"alpha\": 0.5}, ax=axes[u])\n",
    "    axes[u].set_xlabel(\"Z-score normalized mCG Heterogeneity\")\n",
    "    axes[u].set_ylabel(\"The number of fully spanned reads in the 10kb window\")\n",
    "    axes[u].set_title(list(sample_palette)[u])\n",
    "\n",
    "# Check if Mean_euc is not a good representation of Heterogeneity => It was not => Window에 CG 많을 수록 Het 높음 그래서 PMD에서 Euc 낮은것.\n",
    "fig, axes = plt.subplots(1,3, figsize=(18, 6), constrained_layout=True)\n",
    "for u,v in enumerate([ak1_10kb_hetero, ipsc_10kb_hetero, npc_10kb_hetero]):\n",
    "    sns.regplot(data=v, x=\"Mean_euc_zscore\", y=\"CG_Used\", \n",
    "                scatter_kws={\"fc\": sample_palette[list(sample_palette)[u]], \"ec\": sample_palette[list(sample_palette)[u]], \"s\": 15, \"alpha\": 0.2}, \n",
    "                line_kws={\"lw\":1, \"color\": \"black\", \"alpha\": 0.5}, ax=axes[u])\n",
    "    axes[u].set_xlabel(\"Z-score normalized mCG Heterogeneity\")\n",
    "    axes[u].set_ylabel(\"The number of CG in the window\")\n",
    "    axes[u].set_title(list(sample_palette)[u])\n",
    "\n"
   ]
  },
  {
   "cell_type": "code",
   "execution_count": null,
   "metadata": {},
   "outputs": [],
   "source": [
    "cg_used_prop = pd.concat([ak1_10kb_hetero.CG_Used_Prop, ipsc_10kb_hetero.CG_Used_Prop, npc_10kb_hetero.CG_Used_Prop], axis=1)\n",
    "cg_used_prop.columns = ['AK1', 'iPSC', 'NPC']\n",
    "\n",
    "g = sns.displot(cg_used_prop, fill=True, alpha=0.1, kind='kde', palette=sample_palette)\n",
    "g.set_xlabels(\"Percentage of CpG used relative to the Reference CpG in each window\")\n",
    "\n",
    "ak1_10kb_hetero_5 = ak1_10kb_hetero[(ak1_10kb_hetero.Spanned_Reads >= 5)]\n",
    "ipsc_10kb_hetero_5 = ipsc_10kb_hetero[(ipsc_10kb_hetero.Spanned_Reads >= 5)]\n",
    "npc_10kb_hetero_5 = npc_10kb_hetero[(npc_10kb_hetero.Spanned_Reads >= 5)]\n",
    "ak1_10kb_hetero_5['Mean_euc_zscore'] = zscore(ak1_10kb_hetero_5['Mean_euc'])\n",
    "ipsc_10kb_hetero_5['Mean_euc_zscore'] = zscore(ipsc_10kb_hetero_5['Mean_euc'])\n",
    "npc_10kb_hetero_5['Mean_euc_zscore'] = zscore(npc_10kb_hetero_5['Mean_euc'])\n",
    "\n",
    "total_10kb_hetero = pd.concat([ak1_10kb_hetero.loc[:, ['Mean_euc']], ipsc_10kb_hetero.loc[:, ['Mean_euc']], npc_10kb_hetero.loc[:, ['Mean_euc']]], axis=1)\n",
    "total_10kb_hetero.columns = ['AK1', 'iPSC', 'NPC']\n",
    "\n",
    "total_10kb_hetero_5 = pd.concat([ak1_10kb_hetero_5.loc[:, ['Mean_euc']], ipsc_10kb_hetero_5.loc[:, ['Mean_euc']], npc_10kb_hetero_5.loc[:, ['Mean_euc']]], axis=1)\n",
    "total_10kb_hetero.columns = ['AK1', 'iPSC', 'NPC']\n",
    "\n"
   ]
  },
  {
   "cell_type": "markdown",
   "metadata": {},
   "source": [
    "### 10kb Window DNA methylation - 10kb window DNA methylation Heterogeneity"
   ]
  },
  {
   "cell_type": "code",
   "execution_count": null,
   "metadata": {},
   "outputs": [],
   "source": [
    "metdir=\"/mnt/data/Projects/phenomata/01.Projects/13.AK1_PacBio/01.DNA/Analysis_2023/10kb_methylation/\"\n",
    "ak1_10kb_met = pd.read_table(f'{metdir}AK1_10kbmet.tab', index_col=0, header=None)\n",
    "ak1_10kb_met.columns = ['mCG_10kb']\n",
    "ipsc_10kb_met = pd.read_table(f'{metdir}iPSC_10kbmet.tab', index_col=0, header=None)\n",
    "ipsc_10kb_met.columns = ['mCG_10kb']\n",
    "npc_10kb_met = pd.read_table(f'{metdir}NPC_10kbmet.tab', index_col=0, header=None)\n",
    "npc_10kb_met.columns = ['mCG_10kb']\n",
    "\n",
    "ak1_10kb_hetero_mCG = pd.concat([ak1_10kb_hetero['Mean_euc_zscore'], ak1_10kb_met['mCG_10kb']], axis=1)\n",
    "pearsonr(ak1_10kb_hetero_mCG.dropna(how='any').Mean_euc_zscore, ak1_10kb_hetero_mCG.dropna(how='any').mCG_10kb)\n"
   ]
  },
  {
   "cell_type": "markdown",
   "metadata": {},
   "source": [
    "# Circular Binary Segmentation"
   ]
  },
  {
   "cell_type": "markdown",
   "metadata": {},
   "source": [
    "## GRCh38"
   ]
  },
  {
   "cell_type": "markdown",
   "metadata": {},
   "source": [
    "Using https://github.com/kylessmith/linear_segment/tree/main"
   ]
  },
  {
   "cell_type": "code",
   "execution_count": null,
   "metadata": {},
   "outputs": [],
   "source": [
    "#source activate linear_segment\n",
    "from linear_segment import segment\n",
    "import numpy as np\n",
    "import pandas as pd\n",
    "'''\n",
    "np.random.seed(10)\n",
    "x = np.random.random(300000)\n",
    "x[10000:20000] = x[10000:20000] + 0.1\n",
    "x[25000:27000] = x[25000:27000] - 1\n",
    "labels = np.repeat('a', len(x))\n",
    "\n",
    "segments = segment(x, labels, method=\"cbs\")\n",
    "'''\n",
    "\n",
    "ak1_10kb_hetero = pd.read_table(\"AK1_10kb_CG_Heterogeneity.tab\", index_col=0)\n",
    "\n",
    "test_hetero = ak1_10kb_hetero[ak1_10kb_hetero.chrom == 'chr20']\n",
    "test = np.array(test_hetero.Mean_euc)\n",
    "labels = np.repeat('a', len(test))\n",
    "segments = segment(test, labels, method=\"cbs\")\n",
    "\n",
    "with open(\"test_chr20_AK1_HetEuc_Changepoint.bed\", 'w') as rfh:\n",
    "    for i in range(len(segments)):\n",
    "        seg = str(segments[i]).lstrip('Interval(').split(',')[0].split('-')\n",
    "        seg_start = int(segment[0])\n",
    "        seg_end = int(segment[1]) -1\n",
    "        chrom = test_hetero.iloc[seg_start]['chrom']\n",
    "        start = test_hetero.iloc[seg_start]['start']\n",
    "        end = test_hetero.iloc[seg_end]['end']\n",
    "        MeanOfMeanEuc = test_hetero.iloc[seg_start: seg_end+1]['Mean_euc'].mean()\n",
    "        MedianOfMeanEuc = test_hetero.iloc[seg_start: seg_end+1]['Mean_euc'].median()\n",
    "        rfh.write(f'{chrom}\\t{start}\\t{end}\\t{round(MeanOfMeanEuc, 5)}/{round(MedianOfMeanEuc, 5)}\\n')\n",
    "        rfh.flush()\n",
    "        \n"
   ]
  },
  {
   "cell_type": "code",
   "execution_count": null,
   "metadata": {},
   "outputs": [],
   "source": [
    "# Split Chromosome\n",
    "chroms = list(map(lambda x: f'chr{x}', range(1,23)))\n",
    "chroms.append('chrX')"
   ]
  }
 ],
 "metadata": {
  "kernelspec": {
   "display_name": "base",
   "language": "python",
   "name": "python3"
  },
  "language_info": {
   "name": "python",
   "version": "3.9.13"
  }
 },
 "nbformat": 4,
 "nbformat_minor": 2
}
