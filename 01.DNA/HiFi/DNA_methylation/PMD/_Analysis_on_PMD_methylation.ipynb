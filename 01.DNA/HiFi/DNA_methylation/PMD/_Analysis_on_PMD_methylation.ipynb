{
 "cells": [
  {
   "cell_type": "code",
   "execution_count": null,
   "metadata": {},
   "outputs": [],
   "source": [
    "import os\n",
    "import pandas as pd\n",
    "import numpy as np\n",
    "import seaborn as sns\n",
    "import matplotlib.pyplot as plt\n",
    "sns.set(font=\"Arial\", font_scale=1.15, style='ticks')\n",
    "plt.rc(\"axes.spines\", top=False, right=False)\n",
    "#%matplotlib inline\n",
    "sample_palette = {'AK1':'#FF0000', 'iPSC':'#154360', 'H1': '#40E0D0', 'HUES64': '#437299', 'NPC':'#229954', 'HG002': '#545454'}"
   ]
  },
  {
   "attachments": {},
   "cell_type": "markdown",
   "metadata": {},
   "source": [
    "### Input File"
   ]
  },
  {
   "cell_type": "code",
   "execution_count": null,
   "metadata": {},
   "outputs": [],
   "source": [
    "dir=\"/Users/mhryansohn/Desktop/01.Workspace/01.Projects/03.AK1-PacBio/01.DNA/Merged_Run/DNA_methylation/PMD_from_AK1_WGBS/\"\n",
    "ID, Length = list(), list()\n",
    "with open(f\"{dir}AK1_WGBS_PMD.bed\", 'r') as pmdf:\n",
    "    for line in pmdf:  \n",
    "        line = line.strip('\\n').split('\\t')\n",
    "    \n",
    "        id = f\"{line[0]}:{line[1]}-{line[2]}_AK1\"\n",
    "        length = int(line[2]) - int(line[1])\n",
    "    \n",
    "        ID.append(id)\n",
    "        Length.append(length)\n",
    "\n",
    "pmd_from_ak1_wgbs = pd.DataFrame(list(zip(ID, Length)), columns=['ID', 'Length']).set_index('ID')\n",
    "del ID, Length\n",
    "\n",
    "ID, Length = list(), list()\n",
    "with open(f\"{dir}HG002_WGBS_PMD.bed\", 'r') as pmdf:\n",
    "    for line in pmdf:  \n",
    "        line = line.strip('\\n').split('\\t')\n",
    "    \n",
    "        id = f\"{line[0]}:{line[1]}-{line[2]}_HG002\"\n",
    "        length = int(line[2]) - int(line[1])\n",
    "    \n",
    "        ID.append(id)\n",
    "        Length.append(length)\n",
    "\n",
    "pmd_from_hg002_wgbs = pd.DataFrame(list(zip(ID, Length)), columns=['ID', 'Length']).set_index('ID')\n",
    "del ID, Length\n",
    "\n",
    "pmd_total = pd.concat([pmd_from_ak1_wgbs, pmd_from_hg002_wgbs], axis=0)\n",
    "pmd_total = pmd_total.assign(Sample=pmd_total.index.str.split('_').str[-1])\n",
    "\n",
    "'''\n",
    "fig, ax = plt.subplots(figsize=(8,8))\n",
    "sns.histplot(data=pmd_from_ak1_wgbs, x='Length', kde=True, stat='count', ax=ax)\n",
    "ax.set_xlim(pmd_from_ak1_wgbs['Length'].min(), pmd_from_ak1_wgbs['Length'].max())\n",
    "ax.set_xlabel(\"Length of PMD (bp)\")\n",
    "sns.despine(ax=ax)\n",
    "'''\n",
    "fig, ax = plt.subplots(figsize=(8,8))\n",
    "hist = sns.histplot(data=pmd_total, x='Length', hue='Sample', kde=True, stat='count', palette=sample_palette, ax=ax)\n",
    "ax.set_xlim(pmd_total['Length'].min(), pmd_total['Length'].max())\n",
    "ax.set_xlabel(\"Length of PMD (bp)\")\n",
    "ax.set_ylabel(\"The Number of PMD\")\n",
    "legend = ax.legend_\n",
    "handles = legend.legendHandles\n",
    "labels = [text.get_text() for text in legend.texts]\n",
    "\n",
    "ax.legend(handles, labels, loc='upper right', bbox_to_anchor=(0.8, 0.8), frameon=True, fancybox=False, edgecolor='black', prop={'size':15}, title=None)"
   ]
  },
  {
   "attachments": {},
   "cell_type": "markdown",
   "metadata": {},
   "source": [
    "### PMD (from AK1 WGBS) mCG Merging"
   ]
  },
  {
   "cell_type": "code",
   "execution_count": null,
   "metadata": {},
   "outputs": [],
   "source": [
    "#dir='/mnt/data/Projects/phenomata/01.Projects/13.AK1_PacBio/01.DNA/Merged/Phasing_wIndels/MethPipe/PMD/'\n",
    "\n",
    "ak1 = pd.read_table(f\"{dir}AK1_AK1_WGBS_PMD_met.txt\", index_col=0)\n",
    "hg002 = pd.read_table(f\"{dir}HG002_merged_AK1_WGBS_PMD_met.txt\", index_col=0)\n",
    "hg002 = hg002.rename(columns={'HG002_merged': 'HG002'})\n",
    "ipsc = pd.read_table(f\"{dir}iPSC_AK1_WGBS_PMD_met.txt\", index_col=0)\n",
    "h1 = pd.read_table(f\"{dir}H1_AK1_WGBS_PMD_met.txt\", index_col=0)\n",
    "hues64 = pd.read_table(f\"{dir}HUES64_AK1_WGBS_PMD_met.txt\", index_col=0)\n",
    "npc = pd.read_table(f\"{dir}NPC_AK1_WGBS_PMD_met.txt\", index_col=0)\n",
    "merge = pd.concat([ak1, hg002, ipsc, h1, hues64, npc], axis=1)"
   ]
  },
  {
   "attachments": {},
   "cell_type": "markdown",
   "metadata": {},
   "source": [
    "### Analysis"
   ]
  },
  {
   "cell_type": "code",
   "execution_count": null,
   "metadata": {},
   "outputs": [],
   "source": [
    "# Main Figure\n",
    "fig, ax = plt.subplots(figsize=(10,15))\n",
    "heatmap = sns.heatmap(merge.iloc[:, [0, 2, 3, 4, 5]], vmin=0, vmax=100, xticklabels=True, yticklabels=False, cbar=True, cbar_kws={'label':'DNA methylation (%)'}, cmap='coolwarm', ax=ax)\n",
    "heatmap.collections[0].colorbar.set_label(label='DNA methylation (%)', rotation=270, labelpad=30)\n",
    "ax.set_ylabel('PMDs from AK1 WGBS (N=1,427)', labelpad=15)\n",
    "\n",
    "# Main Figure (w/ HG002)\n",
    "fig, ax = plt.subplots(figsize=(10,15))\n",
    "heatmap = sns.heatmap(merge, vmin=0, vmax=100, xticklabels=True, yticklabels=False, cbar=True, cbar_kws={'label':'DNA methylation (%)'}, cmap='coolwarm', ax=ax)\n",
    "heatmap.collections[0].colorbar.set_label(label='DNA methylation (%)', rotation=270, labelpad=30)\n",
    "ax.set_ylabel('PMDs from AK1 WGBS (N=1,427)', labelpad=15)"
   ]
  },
  {
   "attachments": {},
   "cell_type": "markdown",
   "metadata": {},
   "source": [
    "### 100kb DNA methylation"
   ]
  },
  {
   "cell_type": "code",
   "execution_count": null,
   "metadata": {},
   "outputs": [],
   "source": [
    "import pandas as pd\n",
    "import seaborn as sns\n",
    "import matplotlib.pyplot as plt\n",
    "\n",
    "sns.set(font=\"Arial\", font_scale=2, style='ticks')\n",
    "\n",
    "#df1 = pd.read_table('100kb_individual/AK1_100kbmet.tab', index_col=0, header=None)\n",
    "#df2 = pd.read_table('100kb_individual/iPSC_100kbmet.tab', index_col=0, header=None)\n",
    "#df3 = pd.read_table('100kb_individual/H1_100kbmet.tab', index_col=0, header=None)\n",
    "#df4 = pd.read_table('100kb_individual/NPC_100kbmet.tab', index_col=0, header=None)\n",
    "#\n",
    "\n",
    "#df = pd.concat([df1, df2, df3, df4], axis=1)\n",
    "\n",
    "# Main Figure (Fig.1 Violinplot)\n",
    "ak1_100kb = pd.read_table('AK1_100kbmet.tab', index_col=0, header=None)\n",
    "hg002_100kb = pd.read_table('HG002_100kbmet.tab', index_col=0, header=None) # Added For Fig.S\n",
    "ipsc_100kb = pd.read_table('iPSC_100kbmet.tab', index_col=0, header=None)\n",
    "h1_100kb = pd.read_table('H1_100kbmet.tab', index_col=0, header=None)\n",
    "hues64_100kb = pd.read_table('HUES64_100kbmet.tab', index_col=0, header=None) # Added 20230703\n",
    "npc_100kb = pd.read_table('NPC_100kbmet.tab', index_col=0, header=None)\n",
    "\n",
    "df = pd.concat([ak1_100kb, ipsc_100kb, h1_100kb, hues64_100kb, npc_100kb], axis=1)\n",
    "df.columns = ['AK1', 'iPSC', 'H1', 'HUES64', 'NPC']\n",
    "df.index.name = 'Region'\n",
    "df = df.dropna()\n",
    "\n",
    "fig, axes = plt.subplots(1, 1, figsize=(8, 5), constrained_layout=True)\n",
    "sns.violinplot(data=df, palette=sample_palette, ax=axes)\n",
    "axes.set_ylabel('100kb mCG Level (%)')\n",
    "sns.despine(ax=axes)\n",
    "#plt.savefig('Violin_100kb_met.png')\n",
    "\n",
    "# Suppl Figure (Fig.SX Violinplot)\n",
    "df = pd.concat([ak1_100kb, hg002_100kb, ipsc_100kb, h1_100kb, hues64_100kb, npc_100kb], axis=1)\n",
    "df.columns = ['AK1', 'HG002', 'iPSC', 'H1', 'HUES64', 'NPC']\n",
    "df.index.name = 'Region'\n",
    "df = df.dropna()\n",
    "\n",
    "fig, axes = plt.subplots(1, 1, figsize=(8, 5), constrained_layout=True)\n",
    "sns.violinplot(data=df, palette=sample_palette, ax=axes)\n",
    "axes.set_ylabel('100kb mCG Level (%)')\n",
    "sns.despine(ax=axes)\n",
    "#plt.savefig('Violin_100kb_met_wHG002.png')"
   ]
  },
  {
   "attachments": {},
   "cell_type": "markdown",
   "metadata": {},
   "source": []
  }
 ],
 "metadata": {
  "kernelspec": {
   "display_name": "base",
   "language": "python",
   "name": "python3"
  },
  "language_info": {
   "codemirror_mode": {
    "name": "ipython",
    "version": 3
   },
   "file_extension": ".py",
   "mimetype": "text/x-python",
   "name": "python",
   "nbconvert_exporter": "python",
   "pygments_lexer": "ipython3",
   "version": "3.9.13"
  },
  "orig_nbformat": 4
 },
 "nbformat": 4,
 "nbformat_minor": 2
}
