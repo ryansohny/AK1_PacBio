{
 "cells": [
  {
   "cell_type": "code",
   "execution_count": 1,
   "metadata": {},
   "outputs": [],
   "source": [
    "import pandas as pd\n",
    "import numpy as np\n",
    "import matplotlib.pyplot as plt\n",
    "import seaborn as sns\n",
    "sns.set(font=\"Arial\", font_scale=3, style='ticks')\n",
    "%matplotlib inline"
   ]
  },
  {
   "cell_type": "markdown",
   "metadata": {},
   "source": [
    "### Input File"
   ]
  },
  {
   "cell_type": "code",
   "execution_count": null,
   "metadata": {},
   "outputs": [],
   "source": [
    "ID, Length = list(), list()\n",
    "with open(\"AK1_WGBS_PMD.bed\", 'r') as pmdf:\n",
    "    for line in pmdf:\n",
    "        line = line.strip('\\n').split('\\t')\n",
    "    \n",
    "        id = f'{line[0]}:{line[1]}-{line[2]}'\n",
    "        length = int(line[2]) - int(line[1])\n",
    "    \n",
    "        ID.append(id)\n",
    "        Length.append(length)\n",
    "\n",
    "pmd_from_ak1_wgbs = pd.DataFrame(list(zip(ID, Length)), columns=['ID', 'Length']).set_index('ID')\n",
    "del ID, Length\n",
    "\n",
    "fig, ax = plt.subplots(figsize=(8,8))\n",
    "sns.histplot(data=pmd_from_ak1_wgbs, x='Length', kde=True, stat='count', ax=ax)\n",
    "ax.set_xlim(pmd_from_ak1_wgbs['Length'].min(), pmd_from_ak1_wgbs['Length'].max())\n",
    "ax.set_xlabel(\"Length of PMD (bp)\")\n",
    "sns.despine(ax=ax)\n",
    "\n",
    "\n",
    "ak1 = pd.read_table(\"AK1_AK1_WGBS_PMD_met.txt\", index_col=0)\n",
    "ipsc = pd.read_table(\"iPSC_AK1_WGBS_PMD_met.txt\", index_col=0)\n",
    "npc = pd.read_table(\"NSC_AK1_WGBS_PMD_met.txt\", index_col=0)"
   ]
  },
  {
   "cell_type": "markdown",
   "metadata": {},
   "source": [
    "### Merging"
   ]
  },
  {
   "cell_type": "code",
   "execution_count": null,
   "metadata": {},
   "outputs": [],
   "source": [
    "merge = pd.concat([ak1, ipsc, npc], axis=1)"
   ]
  },
  {
   "cell_type": "markdown",
   "metadata": {},
   "source": [
    "### Analysis"
   ]
  },
  {
   "cell_type": "code",
   "execution_count": null,
   "metadata": {},
   "outputs": [],
   "source": [
    "fig, ax = plt.subplots(figsize=(10,15))\n",
    "heatmap = sns.heatmap(merge, vmin=0, vmax=100, xticklabels=True, yticklabels=False, cbar=True, cbar_kws={'label':'DNA methylation (%)'}, cmap='coolwarm', ax=ax)\n",
    "heatmap.collections[0].colorbar.set_label(label='DNA methylation (%)', rotation=270, labelpad=30)\n",
    "ax.set_ylabel('PMDs from AK1 WGBS (N=1,427)', labelpad=15)"
   ]
  },
  {
   "cell_type": "markdown",
   "metadata": {},
   "source": []
  }
 ],
 "metadata": {
  "kernelspec": {
   "display_name": "Python 3.9.13 ('base')",
   "language": "python",
   "name": "python3"
  },
  "language_info": {
   "codemirror_mode": {
    "name": "ipython",
    "version": 3
   },
   "file_extension": ".py",
   "mimetype": "text/x-python",
   "name": "python",
   "nbconvert_exporter": "python",
   "pygments_lexer": "ipython3",
   "version": "3.9.13"
  },
  "orig_nbformat": 4,
  "vscode": {
   "interpreter": {
    "hash": "ad2bdc8ecc057115af97d19610ffacc2b4e99fae6737bb82f5d7fb13d2f2c186"
   }
  }
 },
 "nbformat": 4,
 "nbformat_minor": 2
}
