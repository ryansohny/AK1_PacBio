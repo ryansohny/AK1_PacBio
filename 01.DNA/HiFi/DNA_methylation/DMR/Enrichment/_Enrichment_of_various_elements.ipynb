{
 "cells": [
  {
   "cell_type": "code",
   "execution_count": null,
   "metadata": {},
   "outputs": [],
   "source": [
    "import os\n",
    "import pandas as pd\n",
    "import numpy as np\n",
    "import seaborn as sns\n",
    "import matplotlib\n",
    "import matplotlib.pyplot as plt\n",
    "from matplotlib.colors import ListedColormap\n",
    "from sklearn.decomposition import PCA\n",
    "\n",
    "#cmap = matplotlib.colors.LinearSegmentedColormap.from_list(\"\", [\"#104e8b\", \"#ffdab9\", \"#8b0a50\"])\n",
    "cmap = matplotlib.colors.LinearSegmentedColormap.from_list(\"\", [\"#FFFF00\", \"#000000\", \"#0066CC\"])\n",
    "\n",
    "sns.set(font=\"Arial\", font_scale=1.15, style='ticks')\n",
    "plt.rc(\"axes.spines\", top=False, right=False)\n",
    "%matplotlib\n",
    "%autoindent"
   ]
  },
  {
   "cell_type": "markdown",
   "metadata": {},
   "source": [
    "### ENCODE cCREs (for GM12878 and H1-hESC)"
   ]
  },
  {
   "cell_type": "code",
   "execution_count": null,
   "metadata": {},
   "outputs": [],
   "source": [
    "df_ccres = pd.read_table(\"Enrichment_cCREs_on_DMR_GM12878_and_H1.tab\", index_col=0)\n",
    "\n",
    "df_ccres_gm12878 = df_ccres[df_ccres.index.str.startswith('GM12878')].copy()\n",
    "df_ccres_h1 = df_ccres[df_ccres.index.str.startswith('H1')].copy()\n",
    "\n",
    "df_ccres_gm12878.index = df_ccres_gm12878.index.to_series().replace({\"GM12878_cCREs_\": \"\", \"H1_cCREs_\": \"\"}, regex=True)\n",
    "df_ccres_h1.index = df_ccres_h1.index.to_series().replace({\"GM12878_cCREs_\": \"\", \"H1_cCREs_\": \"\"}, regex=True)\n",
    "\n",
    "# GM12878\n",
    "df_ccres_gm12878_re = pd.concat([df_ccres_gm12878[df_ccres_gm12878['DMR'] == 'Hyper-DMR'], df_ccres_gm12878[df_ccres_gm12878['DMR'] == 'Hypo-DMR']], axis=1).iloc[:, [0,2]]\n",
    "df_ccres_gm12878_re.columns = ['iPSC-Low', 'iPSC-High']\n",
    "\n",
    "fig, ax = plt.subplots(figsize=(7, 5), squeeze=False, constrained_layout=True)\n",
    "heatmap1 = sns.heatmap(df_ccres_gm12878_re, \n",
    "                       vmin=None, \n",
    "                       vmax=None, \n",
    "                       cmap='viridis', \n",
    "                       linewidths=0.2, annot=True, fmt='.2f',\n",
    "                       rasterized=True,\n",
    "                       ax = ax[0, 0])\n",
    "heatmap1.collections[0].colorbar.set_label(label='Enrichment', rotation=270, labelpad=15)\n",
    "ax[0, 0].set_ylabel('')\n",
    "plt.savefig(\"GM12878_cCREs_enrichment_AK1-iPSC.pdf\")\n",
    "\n",
    "# GM12878\n",
    "df_ccres_h1_re = pd.concat([df_ccres_h1[df_ccres_h1['DMR'] == 'Hyper-DMR'], df_ccres_h1[df_ccres_h1['DMR'] == 'Hypo-DMR']], axis=1).iloc[:, [0,2]]\n",
    "df_ccres_h1_re.columns = ['iPSC-Low', 'iPSC-High']\n",
    "\n",
    "fig, ax = plt.subplots(figsize=(7, 5), squeeze=False, constrained_layout=True)\n",
    "heatmap1 = sns.heatmap(df_ccres_h1_re, \n",
    "                       vmin=None, \n",
    "                       vmax=None, \n",
    "                       cmap='viridis', \n",
    "                       linewidths=0.2, annot=True, fmt='.2f',\n",
    "                       rasterized=True,\n",
    "                       ax = ax[0, 0])\n",
    "heatmap1.collections[0].colorbar.set_label(label='Enrichment', rotation=270, labelpad=15)\n",
    "ax[0, 0].set_ylabel('')\n",
    "plt.savefig(\"H1_cCREs_enrichment_AK1-iPSC.pdf\")\n"
   ]
  },
  {
   "cell_type": "markdown",
   "metadata": {},
   "source": [
    "### ENCODE cCREs (for H1-hESC and NPC-H9)"
   ]
  },
  {
   "cell_type": "code",
   "execution_count": null,
   "metadata": {},
   "outputs": [],
   "source": [
    "df_ccres = pd.read_table(\"Enrichment_cCREs_on_DMR_H1_and_NPC_H9.tab\", index_col=0)\n",
    "\n",
    "df_ccres_h1 = df_ccres[df_ccres.index.str.startswith('H1')].copy()\n",
    "df_ccres_npch9 = df_ccres[df_ccres.index.str.startswith('NPC')].copy()\n",
    "\n",
    "df_ccres_h1.index = df_ccres_h1.index.to_series().replace({\"H1_cCREs_\": \"\", \"NPC_cCREs_\": \"\"}, regex=True)\n",
    "df_ccres_npch9.index = df_ccres_npch9.index.to_series().replace({\"H1_cCREs_\": \"\", \"NPC_cCREs_\": \"\"}, regex=True)\n",
    "\n",
    "# H1\n",
    "df_ccres_h1_re = pd.concat([df_ccres_h1[df_ccres_h1['DMR'] == 'Hyper-DMR'], df_ccres_h1[df_ccres_h1['DMR'] == 'Hypo-DMR']], axis=1).iloc[:, [0,2]]\n",
    "df_ccres_h1_re.columns = ['NPC-Low', 'NPC-High']\n",
    "\n",
    "fig, ax = plt.subplots(figsize=(7, 5), squeeze=False, constrained_layout=True)\n",
    "heatmap1 = sns.heatmap(df_ccres_h1_re, \n",
    "                       vmin=None, \n",
    "                       vmax=None, \n",
    "                       cmap='viridis', \n",
    "                       linewidths=0.2, annot=True, fmt='.2f',\n",
    "                       rasterized=True,\n",
    "                       ax = ax[0, 0])\n",
    "heatmap1.collections[0].colorbar.set_label(label='Enrichment', rotation=270, labelpad=15)\n",
    "ax[0, 0].set_ylabel('')\n",
    "plt.savefig(\"H1_cCREs_enrichment_iPSC-NPC.pdf\")\n",
    "\n",
    "# GM12878\n",
    "df_ccres_npch9_re = pd.concat([df_ccres_npch9[df_ccres_npch9['DMR'] == 'Hyper-DMR'], df_ccres_npch9[df_ccres_npch9['DMR'] == 'Hypo-DMR']], axis=1).iloc[:, [0,2]]\n",
    "df_ccres_npch9_re.columns = ['NPC-Low', 'NPC-High']\n",
    "\n",
    "fig, ax = plt.subplots(figsize=(7, 5), squeeze=False, constrained_layout=True)\n",
    "heatmap1 = sns.heatmap(df_ccres_npch9_re, \n",
    "                       vmin=None, \n",
    "                       vmax=None, \n",
    "                       cmap='viridis', \n",
    "                       linewidths=0.2, annot=True, fmt='.2f',\n",
    "                       rasterized=True,\n",
    "                       ax = ax[0, 0])\n",
    "heatmap1.collections[0].colorbar.set_label(label='Enrichment', rotation=270, labelpad=15)\n",
    "ax[0, 0].set_ylabel('')\n",
    "plt.savefig(\"NPC-H9_cCREs_enrichment_iPSC-NPC.pdf\")\n"
   ]
  }
 ],
 "metadata": {
  "kernelspec": {
   "display_name": "base",
   "language": "python",
   "name": "python3"
  },
  "language_info": {
   "name": "python",
   "version": "3.9.13"
  },
  "orig_nbformat": 4
 },
 "nbformat": 4,
 "nbformat_minor": 2
}
