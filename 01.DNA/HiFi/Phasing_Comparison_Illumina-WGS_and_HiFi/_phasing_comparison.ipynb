{
 "cells": [
  {
   "cell_type": "code",
   "execution_count": null,
   "metadata": {},
   "outputs": [],
   "source": [
    "import os\n",
    "import pandas as pd\n",
    "import numpy as np\n",
    "import seaborn as sns\n",
    "import matplotlib\n",
    "import matplotlib.pyplot as plt\n",
    "import matplotlib.gridspec as gridspec\n",
    "from matplotlib.colors import ListedColormap\n",
    "from sklearn.decomposition import PCA\n",
    "\n",
    "#cmap = matplotlib.colors.LinearSegmentedColormap.from_list(\"\", [\"#104e8b\", \"#ffdab9\", \"#8b0a50\"])\n",
    "cmap = matplotlib.colors.LinearSegmentedColormap.from_list(\"\", [\"#FFFF00\", \"#000000\", \"#0066CC\"])\n",
    "\n",
    "sns.set_theme(font=\"Arial\", font_scale=1.15, style='ticks')\n",
    "plt.rc(\"axes.spines\", top=False, right=False)\n",
    "%matplotlib\n",
    "%autoindent"
   ]
  },
  {
   "cell_type": "markdown",
   "metadata": {},
   "source": [
    "### Reading Whatshap stats results"
   ]
  },
  {
   "cell_type": "code",
   "execution_count": null,
   "metadata": {},
   "outputs": [],
   "source": [
    "hifi = pd.read_table(\"AK1_PASS_Phased_wIndels_PS_woMXY.tsv\", index_col=0) # whatshap stats results\n",
    "hifi.index = ['AK1_HiFi' if idx=='AK1' else idx for idx in hifi.index]\n",
    "hifi = hifi.reset_index()\n",
    "illumina = pd.read_table(\"AK1_WGS.Filtered.Variants.PASS.reheader.phased_PS_woMXY_stats.tsv\", index_col=0) # whatshap stats results\n",
    "illumina.index = ['AK1_Illumina' if idx=='AK1' else idx for idx in illumina.index]\n",
    "illumina = illumina.reset_index()"
   ]
  },
  {
   "cell_type": "markdown",
   "metadata": {},
   "source": [
    "### Create Bar plot for each items"
   ]
  },
  {
   "cell_type": "code",
   "execution_count": null,
   "metadata": {},
   "outputs": [],
   "source": [
    "for column in ['phased', 'blocks', 'bp_per_block_avg']:\n",
    "    df = pd.concat([hifi[['index', 'chromosome', column]], illumina[['index', 'chromosome', column]]], axis=0)\n",
    "\n",
    "    fig = plt.figure(figsize=(16.5, 8), constrained_layout=True)\n",
    "    grid = gridspec.GridSpec(1, 2, width_ratios=[3, 1], figure=fig)\n",
    "    ax1 = plt.subplot(grid[0])\n",
    "    df_chr = df[df['chromosome'] != 'ALL']\n",
    "    sns.barplot(data=df_chr, x='chromosome', y=column, hue='index', palette={'AK1_HiFi': 'darkred', 'AK1_Illumina': 'pink'}, ax=ax1)\n",
    "    ax1.set_xlabel('GRCh38 Autosomes')\n",
    "    if column == 'phased':\n",
    "        ax1.set_ylabel('The Number of Phased Variants')\n",
    "    elif column == 'blocks':\n",
    "        ax1.set_ylabel('The Number of Phased Blocks')\n",
    "    elif column == 'bp_per_block_avg':\n",
    "        ax1.set_ylabel('The Average Length of Phased Blocks (bp)')\n",
    "    ax1.get_yaxis().set_major_formatter(matplotlib.ticker.FuncFormatter(lambda x, p: format(int(x), ',')))\n",
    "    handles, _ = ax1.get_legend_handles_labels()\n",
    "    if column == 'bp_per_block_avg':\n",
    "        ax1.legend(handles, ['AK1 HiFi (26X)', 'AK1 Illumina (70X)'], loc='upper right', bbox_to_anchor=(0.3, 0.9), frameon=True, fancybox=False, edgecolor='black', prop={'size':14}, title=None)\n",
    "    else:\n",
    "        ax1.legend(handles, ['AK1 HiFi (26X)', 'AK1 Illumina (70X)'], loc='upper right', bbox_to_anchor=(0.95, 0.9), frameon=True, fancybox=False, edgecolor='black', prop={'size':14}, title=None)\n",
    "\n",
    "    ax2 = plt.subplot(grid[1])\n",
    "    df_all = df[df['chromosome'] == 'ALL']\n",
    "    sns.barplot(data=df_all, x='chromosome', y=column, hue='index', palette={'AK1_HiFi': 'darkred', 'AK1_Illumina': 'pink'}, width=0.5, ax=ax2)\n",
    "    ax2.set_xlabel('')\n",
    "    ax2.set_xticklabels(['All GRCh38 Autosomes'], size=15)\n",
    "    if column == 'phased':\n",
    "        ax2.set_ylabel('The Number of Phased Variants')\n",
    "    elif column == 'blocks':\n",
    "        ax2.set_ylabel('The Number of Phased Blocks')\n",
    "    elif column == 'bp_per_block_avg':\n",
    "        ax2.set_ylabel('The Average Length of Phased Blocks (bp)')\n",
    "    ax2.get_yaxis().set_major_formatter(matplotlib.ticker.FuncFormatter(lambda x, p: format(int(x), ',')))\n",
    "    ax2.legend().set_visible(False)\n",
    "\n",
    "    plt.savefig(f\"{column}_barplot.pdf\")\n",
    "\n",
    "\n"
   ]
  }
 ],
 "metadata": {
  "kernelspec": {
   "display_name": "base",
   "language": "python",
   "name": "python3"
  },
  "language_info": {
   "name": "python",
   "version": "3.9.13"
  },
  "orig_nbformat": 4
 },
 "nbformat": 4,
 "nbformat_minor": 2
}
