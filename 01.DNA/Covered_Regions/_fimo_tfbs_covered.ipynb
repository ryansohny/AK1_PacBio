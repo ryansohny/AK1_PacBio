{
 "cells": [
  {
   "cell_type": "code",
   "execution_count": null,
   "metadata": {},
   "outputs": [],
   "source": [
    "import pandas as pd\n",
    "import matplotlib.pyplot as plt\n",
    "import seaborn as sns\n",
    "sns.set(font=\"arial\", font_scale=1.15, style='ticks')\n",
    "plt.rcParams['figure.figsize'] = (6,6)\n",
    "plt.rc(\"axes.spines\", top=False, right=False)\n",
    "sample_palette = {'AK1 HiFi':'#FF0000', 'AK1 WGBS': '#FF00FF', 'iPSC HiFi':'#154360', 'H1 WGBS': '#40E0D0', 'HUES64 WGBS': '#437299', 'NPC HiFi':'#229954', 'HG002 HiFi': '#545454'}\n"
   ]
  },
  {
   "cell_type": "code",
   "execution_count": null,
   "metadata": {},
   "outputs": [],
   "source": [
    "df = pd.read_table(\"FIMO_TFBS_Covered.tab\")\n",
    "\n",
    "fig, ax = plt.subplots(figsize=(7.5, 5), constrained_layout=True)\n",
    "bar_plot = sns.barplot(data=df, x='Category', y='Percent_Covered', palette=sample_palette, ax=ax)\n",
    "ax.set_ylabel('FIMO TFBS Covered (%)')\n",
    "ax.set_xlabel('')\n",
    "ax.set_xticklabels(['AK1 HiFi\\n(26x)', 'AK1 WGBS\\n(26x)', 'iPSC HiFi\\n(25x)', 'NPC HiFi\\n(28x)', 'H1 WGBS\\n(45x)', 'HUES64 WGBS\\n(42x)'])\n",
    "\n",
    "for bar in bar_plot.patches:\n",
    "    bar_plot.annotate(format(bar.get_height(), '.2f'), \n",
    "                   (bar.get_x() + bar.get_width() / 2., bar.get_height()), \n",
    "                   ha = 'center', va = 'center', \n",
    "                   size=15, xytext = (0, 8), \n",
    "                   textcoords = 'offset points')\n",
    "    \n",
    "plt.savefig(\"FIMO_TFBS_Covered_Percentage_BarPlot.pdf\")\n",
    "plt.clf()"
   ]
  },
  {
   "cell_type": "code",
   "execution_count": null,
   "metadata": {},
   "outputs": [],
   "source": []
  }
 ],
 "metadata": {
  "kernelspec": {
   "display_name": "base",
   "language": "python",
   "name": "python3"
  },
  "language_info": {
   "name": "python",
   "version": "3.9.13"
  }
 },
 "nbformat": 4,
 "nbformat_minor": 2
}
